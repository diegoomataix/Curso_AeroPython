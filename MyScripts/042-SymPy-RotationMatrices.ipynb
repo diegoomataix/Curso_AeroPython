{
 "cells": [
  {
   "cell_type": "code",
   "execution_count": 228,
   "metadata": {},
   "outputs": [],
   "source": [
    "import math\n",
    "from sympy import *\n",
    "init_printing(use_latex='mathjax')"
   ]
  },
  {
   "cell_type": "markdown",
   "metadata": {},
   "source": [
    "# Definitions and Functions"
   ]
  },
  {
   "cell_type": "code",
   "execution_count": 229,
   "metadata": {},
   "outputs": [],
   "source": [
    "## Define symbols\n",
    "x, y, z = symbols('mu gamma psi')\n",
    "\n",
    "### NOTE: THE CODE BELOW IS NOT BEING USED IN THE FINAL EXAMPLE ###\n",
    "cx, sx = symbols('cos(x) sin(x)')\n",
    "cy, sy = symbols('cos(y) sin(y)')\n",
    "cz, sz = symbols('cos(z) sin(z)')\n",
    "\n",
    "## Elementary rotation matrices:\n",
    "\n",
    "#C1\n",
    "Rx = Matrix([\n",
    "    [1, 0, 0],\n",
    "    [0, cx, sx],\n",
    "    [0, -sx, cx]])\n",
    "#C2\n",
    "Ry = Matrix([\n",
    "    [cy, 0, -sy],\n",
    "    [0,  1, 0],\n",
    "    [sy, 0, cy]])\n",
    "#C3\n",
    "Rz = Matrix([\n",
    "    [cz, sz, 0],\n",
    "    [-sz,  cz, 0],\n",
    "    [0,    0, 1]])\n"
   ]
  },
  {
   "cell_type": "code",
   "execution_count": 230,
   "metadata": {},
   "outputs": [],
   "source": [
    "## Elementary rotation matrices Functions:\n",
    "\n",
    "def C1(angle):\n",
    "    x = symbols('x')\n",
    "    Rx = Matrix([\n",
    "        [1, 0, 0],\n",
    "        [0, cos(x), sin(x)],\n",
    "        [0, -sin(x), cos(x)]])\n",
    "    return Rx.subs(x, angle)\n",
    "\n",
    "def C2(angle):\n",
    "    y = symbols('y')\n",
    "    Ry = Matrix([\n",
    "        [cos(y), 0, -sin(y)],\n",
    "        [0,  1, 0],\n",
    "        [sin(y), 0, cos(y)]])\n",
    "    return Ry.subs(y, angle)\n",
    "\n",
    "def C3(angle):\n",
    "    z = symbols('z')\n",
    "    Rz = Matrix([\n",
    "        [cos(z), sin(z), 0],\n",
    "        [-sin(z),  cos(z), 0],\n",
    "        [0,    0, 1]])\n",
    "    return Rz.subs(z, angle)"
   ]
  },
  {
   "cell_type": "code",
   "execution_count": 231,
   "metadata": {},
   "outputs": [],
   "source": [
    "class IJKReferenceFrame(ReferenceFrame):\n",
    "    def __init__(self, name):\n",
    "        super().__init__(name, latexs=['\\mathbf{%s}_{%s}' % (\n",
    "            idx, name) for idx in (\"i\", \"j\", \"k\")])\n",
    "        self.i = self.x\n",
    "        self.j = self.y\n",
    "        self.k = self.z"
   ]
  },
  {
   "cell_type": "markdown",
   "metadata": {},
   "source": [
    "# Examples\n",
    "We can compute the matrix Rzyx by multiplying matrixes corresponding to each consecutive rotation, e.g.\n",
    "Rzyx(θx, θy, θz) = Rz(θz)∗Ry(θy)∗Rx(θx)\n",
    "\n",
    "In this file, we will use the SymPy to compute algebraic expressions for euler angle matrices. Using these expressions, we will be able to derive formulas for converting from matrices to euler angles."
   ]
  },
  {
   "cell_type": "markdown",
   "metadata": {},
   "source": [
    "x = spin angle ($\\mu$)\n",
    "\n",
    "y = nutation angle ($\\gamma$)\n",
    "\n",
    "z = precession angle ($\\psi$)\n",
    "\n"
   ]
  },
  {
   "cell_type": "code",
   "execution_count": 232,
   "metadata": {},
   "outputs": [
    {
     "data": {
      "text/latex": [
       "$\\displaystyle \\left[\\begin{matrix}- \\sin{\\left(\\mu \\right)} \\sin{\\left(\\psi \\right)} \\cos{\\left(\\gamma \\right)} + \\cos{\\left(\\mu \\right)} \\cos{\\left(\\psi \\right)} & \\sin{\\left(\\mu \\right)} \\cos{\\left(\\gamma \\right)} \\cos{\\left(\\psi \\right)} + \\sin{\\left(\\psi \\right)} \\cos{\\left(\\mu \\right)} & \\sin{\\left(\\gamma \\right)} \\sin{\\left(\\mu \\right)}\\\\- \\sin{\\left(\\mu \\right)} \\cos{\\left(\\psi \\right)} - \\sin{\\left(\\psi \\right)} \\cos{\\left(\\gamma \\right)} \\cos{\\left(\\mu \\right)} & - \\sin{\\left(\\mu \\right)} \\sin{\\left(\\psi \\right)} + \\cos{\\left(\\gamma \\right)} \\cos{\\left(\\mu \\right)} \\cos{\\left(\\psi \\right)} & \\sin{\\left(\\gamma \\right)} \\cos{\\left(\\mu \\right)}\\\\\\sin{\\left(\\gamma \\right)} \\sin{\\left(\\psi \\right)} & - \\sin{\\left(\\gamma \\right)} \\cos{\\left(\\psi \\right)} & \\cos{\\left(\\gamma \\right)}\\end{matrix}\\right]$"
      ],
      "text/plain": [
       "⎡-sin(μ)⋅sin(ψ)⋅cos(γ) + cos(μ)⋅cos(ψ)  sin(μ)⋅cos(γ)⋅cos(ψ) + sin(ψ)⋅cos(μ)  \n",
       "⎢                                                                             \n",
       "⎢-sin(μ)⋅cos(ψ) - sin(ψ)⋅cos(γ)⋅cos(μ)  -sin(μ)⋅sin(ψ) + cos(γ)⋅cos(μ)⋅cos(ψ) \n",
       "⎢                                                                             \n",
       "⎣            sin(γ)⋅sin(ψ)                         -sin(γ)⋅cos(ψ)             \n",
       "\n",
       " sin(γ)⋅sin(μ)⎤\n",
       "              ⎥\n",
       " sin(γ)⋅cos(μ)⎥\n",
       "              ⎥\n",
       "    cos(γ)    ⎦"
      ]
     },
     "execution_count": 232,
     "metadata": {},
     "output_type": "execute_result"
    }
   ],
   "source": [
    "# 3-1-3 Euler angles rotation matrices\n",
    "# Ctot(x,y,z) = C3(x) * C1(y) * C3(z)\n",
    "\n",
    "C3_x = C3(x)\n",
    "C1_y = C1(y)\n",
    "C3_z = C3(z)\n",
    "\n",
    "R_zxz = C3_x * C1_y * C3_z\n",
    "R_zxz\n"
   ]
  },
  {
   "cell_type": "code",
   "execution_count": 233,
   "metadata": {},
   "outputs": [
    {
     "data": {
      "text/latex": [
       "$\\displaystyle \\left[\\begin{matrix}\\cos{\\left(\\gamma \\right)} \\cos{\\left(\\psi \\right)} & \\sin{\\left(\\psi \\right)} \\cos{\\left(\\gamma \\right)} & - \\sin{\\left(\\gamma \\right)}\\\\\\sin{\\left(\\gamma \\right)} \\sin{\\left(\\mu \\right)} \\cos{\\left(\\psi \\right)} - \\sin{\\left(\\psi \\right)} \\cos{\\left(\\mu \\right)} & \\sin{\\left(\\gamma \\right)} \\sin{\\left(\\mu \\right)} \\sin{\\left(\\psi \\right)} + \\cos{\\left(\\mu \\right)} \\cos{\\left(\\psi \\right)} & \\sin{\\left(\\mu \\right)} \\cos{\\left(\\gamma \\right)}\\\\\\sin{\\left(\\gamma \\right)} \\cos{\\left(\\mu \\right)} \\cos{\\left(\\psi \\right)} + \\sin{\\left(\\mu \\right)} \\sin{\\left(\\psi \\right)} & \\sin{\\left(\\gamma \\right)} \\sin{\\left(\\psi \\right)} \\cos{\\left(\\mu \\right)} - \\sin{\\left(\\mu \\right)} \\cos{\\left(\\psi \\right)} & \\cos{\\left(\\gamma \\right)} \\cos{\\left(\\mu \\right)}\\end{matrix}\\right]$"
      ],
      "text/plain": [
       "⎡           cos(γ)⋅cos(ψ)                         sin(ψ)⋅cos(γ)               \n",
       "⎢                                                                             \n",
       "⎢sin(γ)⋅sin(μ)⋅cos(ψ) - sin(ψ)⋅cos(μ)  sin(γ)⋅sin(μ)⋅sin(ψ) + cos(μ)⋅cos(ψ)  s\n",
       "⎢                                                                             \n",
       "⎣sin(γ)⋅cos(μ)⋅cos(ψ) + sin(μ)⋅sin(ψ)  sin(γ)⋅sin(ψ)⋅cos(μ) - sin(μ)⋅cos(ψ)  c\n",
       "\n",
       "  -sin(γ)   ⎤\n",
       "            ⎥\n",
       "in(μ)⋅cos(γ)⎥\n",
       "            ⎥\n",
       "os(γ)⋅cos(μ)⎦"
      ]
     },
     "execution_count": 233,
     "metadata": {},
     "output_type": "execute_result"
    }
   ],
   "source": [
    "# 3-2-1 Euler angles rotation matrices\n",
    "# Ctot(x,y,z) = C1(x) * C2(y) * C3(z)\n",
    "\n",
    "C1_x = C1(x)\n",
    "C2_y = C2(y)\n",
    "C3_z = C3(z)\n",
    "\n",
    "R_zyx = C1_x * C2_y * C3_z\n",
    "R_zyx\n"
   ]
  },
  {
   "cell_type": "code",
   "execution_count": 234,
   "metadata": {},
   "outputs": [
    {
     "data": {
      "text/latex": [
       "$\\displaystyle \\left[\\begin{matrix}- \\sin{\\left(\\mu \\right)} \\sin{\\left(\\psi \\right)} + \\cos{\\left(\\gamma \\right)} \\cos{\\left(\\mu \\right)} \\cos{\\left(\\psi \\right)} & \\sin{\\left(\\mu \\right)} \\cos{\\left(\\gamma \\right)} \\cos{\\left(\\psi \\right)} + \\sin{\\left(\\psi \\right)} \\cos{\\left(\\mu \\right)} & - \\sin{\\left(\\gamma \\right)} \\cos{\\left(\\psi \\right)}\\\\- \\sin{\\left(\\mu \\right)} \\cos{\\left(\\psi \\right)} - \\sin{\\left(\\psi \\right)} \\cos{\\left(\\gamma \\right)} \\cos{\\left(\\mu \\right)} & - \\sin{\\left(\\mu \\right)} \\sin{\\left(\\psi \\right)} \\cos{\\left(\\gamma \\right)} + \\cos{\\left(\\mu \\right)} \\cos{\\left(\\psi \\right)} & \\sin{\\left(\\gamma \\right)} \\sin{\\left(\\psi \\right)}\\\\\\sin{\\left(\\gamma \\right)} \\cos{\\left(\\mu \\right)} & \\sin{\\left(\\gamma \\right)} \\sin{\\left(\\mu \\right)} & \\cos{\\left(\\gamma \\right)}\\end{matrix}\\right]$"
      ],
      "text/plain": [
       "⎡-sin(μ)⋅sin(ψ) + cos(γ)⋅cos(μ)⋅cos(ψ)  sin(μ)⋅cos(γ)⋅cos(ψ) + sin(ψ)⋅cos(μ)  \n",
       "⎢                                                                             \n",
       "⎢-sin(μ)⋅cos(ψ) - sin(ψ)⋅cos(γ)⋅cos(μ)  -sin(μ)⋅sin(ψ)⋅cos(γ) + cos(μ)⋅cos(ψ) \n",
       "⎢                                                                             \n",
       "⎣            sin(γ)⋅cos(μ)                          sin(γ)⋅sin(μ)             \n",
       "\n",
       " -sin(γ)⋅cos(ψ)⎤\n",
       "               ⎥\n",
       " sin(γ)⋅sin(ψ) ⎥\n",
       "               ⎥\n",
       "     cos(γ)    ⎦"
      ]
     },
     "execution_count": 234,
     "metadata": {},
     "output_type": "execute_result"
    }
   ],
   "source": [
    "# 3-2-3 Euler angles rotation matrices\n",
    "\n",
    "# Ctot(x,y,z) = C3(x) * C2(y) * C3(z)\n",
    "\n",
    "C3_x = C3(x)\n",
    "C2_y = C2(y)\n",
    "C3_z = C3(z)\n",
    "\n",
    "R_zyz = C3_z * C2_y * C3_x\n",
    "R_zyz\n"
   ]
  },
  {
   "cell_type": "markdown",
   "metadata": {},
   "source": [
    "### Using the physics.mechanics library\n",
    "I will now compare **two methods of obtaining the same rotation matrix**. \n",
    "\n",
    "One uses the .orient method implemented in the sympy.physics.mechanics and the other the functions stated on the beginning of this notebook."
   ]
  },
  {
   "cell_type": "code",
   "execution_count": 235,
   "metadata": {},
   "outputs": [],
   "source": [
    "from sympy.physics.mechanics import *"
   ]
  },
  {
   "cell_type": "code",
   "execution_count": 236,
   "metadata": {},
   "outputs": [],
   "source": [
    "# First let's define the dynamic symbols, as these are a function of time\n",
    "x, y, z = dynamicsymbols('mu gamma psi')"
   ]
  },
  {
   "cell_type": "markdown",
   "metadata": {},
   "source": [
    "#### As done earlier:"
   ]
  },
  {
   "cell_type": "code",
   "execution_count": 237,
   "metadata": {},
   "outputs": [
    {
     "data": {
      "text/latex": [
       "$\\displaystyle \\left[\\begin{matrix}\\cos{\\left(\\gamma{\\left(t \\right)} \\right)} \\cos{\\left(\\psi{\\left(t \\right)} \\right)} & \\sin{\\left(\\psi{\\left(t \\right)} \\right)} & \\sin{\\left(\\gamma{\\left(t \\right)} \\right)} \\cos{\\left(\\psi{\\left(t \\right)} \\right)}\\\\- \\sin{\\left(\\gamma{\\left(t \\right)} \\right)} \\sin{\\left(\\mu{\\left(t \\right)} \\right)} - \\sin{\\left(\\psi{\\left(t \\right)} \\right)} \\cos{\\left(\\gamma{\\left(t \\right)} \\right)} \\cos{\\left(\\mu{\\left(t \\right)} \\right)} & \\cos{\\left(\\mu{\\left(t \\right)} \\right)} \\cos{\\left(\\psi{\\left(t \\right)} \\right)} & - \\sin{\\left(\\gamma{\\left(t \\right)} \\right)} \\sin{\\left(\\psi{\\left(t \\right)} \\right)} \\cos{\\left(\\mu{\\left(t \\right)} \\right)} + \\sin{\\left(\\mu{\\left(t \\right)} \\right)} \\cos{\\left(\\gamma{\\left(t \\right)} \\right)}\\\\- \\sin{\\left(\\gamma{\\left(t \\right)} \\right)} \\cos{\\left(\\mu{\\left(t \\right)} \\right)} + \\sin{\\left(\\mu{\\left(t \\right)} \\right)} \\sin{\\left(\\psi{\\left(t \\right)} \\right)} \\cos{\\left(\\gamma{\\left(t \\right)} \\right)} & - \\sin{\\left(\\mu{\\left(t \\right)} \\right)} \\cos{\\left(\\psi{\\left(t \\right)} \\right)} & \\sin{\\left(\\gamma{\\left(t \\right)} \\right)} \\sin{\\left(\\mu{\\left(t \\right)} \\right)} \\sin{\\left(\\psi{\\left(t \\right)} \\right)} + \\cos{\\left(\\gamma{\\left(t \\right)} \\right)} \\cos{\\left(\\mu{\\left(t \\right)} \\right)}\\end{matrix}\\right]$"
      ],
      "text/plain": [
       "⎡                cos(γ(t))⋅cos(ψ(t))                        sin(ψ(t))         \n",
       "⎢                                                                             \n",
       "⎢-sin(γ(t))⋅sin(μ(t)) - sin(ψ(t))⋅cos(γ(t))⋅cos(μ(t))  cos(μ(t))⋅cos(ψ(t))   -\n",
       "⎢                                                                             \n",
       "⎣-sin(γ(t))⋅cos(μ(t)) + sin(μ(t))⋅sin(ψ(t))⋅cos(γ(t))  -sin(μ(t))⋅cos(ψ(t))  s\n",
       "\n",
       "               sin(γ(t))⋅cos(ψ(t))                 ⎤\n",
       "                                                   ⎥\n",
       "sin(γ(t))⋅sin(ψ(t))⋅cos(μ(t)) + sin(μ(t))⋅cos(γ(t))⎥\n",
       "                                                   ⎥\n",
       "in(γ(t))⋅sin(μ(t))⋅sin(ψ(t)) + cos(γ(t))⋅cos(μ(t)) ⎦"
      ]
     },
     "execution_count": 237,
     "metadata": {},
     "output_type": "execute_result"
    }
   ],
   "source": [
    "# (-2)-3-1 Euler angle rotation matrix\n",
    "\n",
    "C3_x = C3(z)\n",
    "C2_y = C2(-y)\n",
    "C1_x = C1(x)\n",
    "\n",
    "R_y_neg_zx = C1_x*C3_x*C2_y\n",
    "R_y_neg_zx\n"
   ]
  },
  {
   "cell_type": "code",
   "execution_count": 238,
   "metadata": {},
   "outputs": [
    {
     "data": {
      "text/latex": [
       "$\\displaystyle \\left[\\begin{matrix}\\cos{\\left(\\psi{\\left(t \\right)} \\right)} & \\sin{\\left(\\psi{\\left(t \\right)} \\right)} & 0\\\\- \\sin{\\left(\\psi{\\left(t \\right)} \\right)} \\cos{\\left(\\mu{\\left(t \\right)} \\right)} & \\cos{\\left(\\mu{\\left(t \\right)} \\right)} \\cos{\\left(\\psi{\\left(t \\right)} \\right)} & \\sin{\\left(\\mu{\\left(t \\right)} \\right)}\\\\\\sin{\\left(\\mu{\\left(t \\right)} \\right)} \\sin{\\left(\\psi{\\left(t \\right)} \\right)} & - \\sin{\\left(\\mu{\\left(t \\right)} \\right)} \\cos{\\left(\\psi{\\left(t \\right)} \\right)} & \\cos{\\left(\\mu{\\left(t \\right)} \\right)}\\end{matrix}\\right]$"
      ],
      "text/plain": [
       "⎡     cos(ψ(t))             sin(ψ(t))            0    ⎤\n",
       "⎢                                                     ⎥\n",
       "⎢-sin(ψ(t))⋅cos(μ(t))  cos(μ(t))⋅cos(ψ(t))   sin(μ(t))⎥\n",
       "⎢                                                     ⎥\n",
       "⎣sin(μ(t))⋅sin(ψ(t))   -sin(μ(t))⋅cos(ψ(t))  cos(μ(t))⎦"
      ]
     },
     "execution_count": 238,
     "metadata": {},
     "output_type": "execute_result"
    }
   ],
   "source": [
    "# 3-1 Euler angle rotation matrix\n",
    "\n",
    "C1_x*C3_x"
   ]
  },
  {
   "cell_type": "markdown",
   "metadata": {},
   "source": [
    "#### Using built-in functions"
   ]
  },
  {
   "cell_type": "code",
   "execution_count": 239,
   "metadata": {},
   "outputs": [],
   "source": [
    "A = IJKReferenceFrame(\"A\")"
   ]
  },
  {
   "cell_type": "code",
   "execution_count": 240,
   "metadata": {},
   "outputs": [
    {
     "data": {
      "text/latex": [
       "$\\displaystyle \\left[\\begin{matrix}\\cos{\\left(\\psi{\\left(t \\right)} \\right)} & \\sin{\\left(\\psi{\\left(t \\right)} \\right)} & 0\\\\- \\sin{\\left(\\psi{\\left(t \\right)} \\right)} & \\cos{\\left(\\psi{\\left(t \\right)} \\right)} & 0\\\\0 & 0 & 1\\end{matrix}\\right]$"
      ],
      "text/plain": [
       "⎡cos(ψ(t))   sin(ψ(t))  0⎤\n",
       "⎢                        ⎥\n",
       "⎢-sin(ψ(t))  cos(ψ(t))  0⎥\n",
       "⎢                        ⎥\n",
       "⎣    0           0      1⎦"
      ]
     },
     "execution_count": 240,
     "metadata": {},
     "output_type": "execute_result"
    }
   ],
   "source": [
    "A1 = IJKReferenceFrame(\"A1\")\n",
    "psi = dynamicsymbols('psi')\n",
    "A1.orient(A, 'Axis', [psi, A.z])\n",
    "A1.dcm(A)  # T_{A1A}"
   ]
  },
  {
   "cell_type": "code",
   "execution_count": 241,
   "metadata": {},
   "outputs": [
    {
     "data": {
      "text/latex": [
       "$\\displaystyle \\left[\\begin{matrix}\\cos{\\left(\\gamma{\\left(t \\right)} \\right)} & 0 & \\sin{\\left(\\gamma{\\left(t \\right)} \\right)}\\\\0 & 1 & 0\\\\- \\sin{\\left(\\gamma{\\left(t \\right)} \\right)} & 0 & \\cos{\\left(\\gamma{\\left(t \\right)} \\right)}\\end{matrix}\\right]$"
      ],
      "text/plain": [
       "⎡cos(γ(t))   0  sin(γ(t))⎤\n",
       "⎢                        ⎥\n",
       "⎢    0       1      0    ⎥\n",
       "⎢                        ⎥\n",
       "⎣-sin(γ(t))  0  cos(γ(t))⎦"
      ]
     },
     "execution_count": 241,
     "metadata": {},
     "output_type": "execute_result"
    }
   ],
   "source": [
    "A2 = IJKReferenceFrame(\"A2\")\n",
    "gamma = dynamicsymbols('gamma')\n",
    "A2.orient(A1, 'Axis', [gamma, -A1.y])\n",
    "A2.dcm(A1)  # T_{A2A1}\n"
   ]
  },
  {
   "cell_type": "code",
   "execution_count": 242,
   "metadata": {},
   "outputs": [
    {
     "data": {
      "text/latex": [
       "$\\displaystyle \\left[\\begin{matrix}\\cos{\\left(\\gamma{\\left(t \\right)} \\right)} \\cos{\\left(\\psi{\\left(t \\right)} \\right)} & \\sin{\\left(\\psi{\\left(t \\right)} \\right)} & \\sin{\\left(\\gamma{\\left(t \\right)} \\right)} \\cos{\\left(\\psi{\\left(t \\right)} \\right)}\\\\- \\sin{\\left(\\psi{\\left(t \\right)} \\right)} \\cos{\\left(\\gamma{\\left(t \\right)} \\right)} & \\cos{\\left(\\psi{\\left(t \\right)} \\right)} & - \\sin{\\left(\\gamma{\\left(t \\right)} \\right)} \\sin{\\left(\\psi{\\left(t \\right)} \\right)}\\\\- \\sin{\\left(\\gamma{\\left(t \\right)} \\right)} & 0 & \\cos{\\left(\\gamma{\\left(t \\right)} \\right)}\\end{matrix}\\right]$"
      ],
      "text/plain": [
       "⎡cos(γ(t))⋅cos(ψ(t))   sin(ψ(t))  sin(γ(t))⋅cos(ψ(t)) ⎤\n",
       "⎢                                                     ⎥\n",
       "⎢-sin(ψ(t))⋅cos(γ(t))  cos(ψ(t))  -sin(γ(t))⋅sin(ψ(t))⎥\n",
       "⎢                                                     ⎥\n",
       "⎣     -sin(γ(t))           0           cos(γ(t))      ⎦"
      ]
     },
     "execution_count": 242,
     "metadata": {},
     "output_type": "execute_result"
    }
   ],
   "source": [
    "A3 = IJKReferenceFrame(\"A3\")\n",
    "#zeta = dynamicsymbols('zeta')\n",
    "A3.orient(A2, 'Axis', [psi, A2.z])\n",
    "A3.dcm(A1)  # T_{A3A1}"
   ]
  },
  {
   "cell_type": "code",
   "execution_count": 243,
   "metadata": {},
   "outputs": [
    {
     "data": {
      "text/latex": [
       "$\\displaystyle \\left[\\begin{matrix}1 & 0 & 0\\\\0 & \\cos{\\left(\\mu{\\left(t \\right)} \\right)} & \\sin{\\left(\\mu{\\left(t \\right)} \\right)}\\\\0 & - \\sin{\\left(\\mu{\\left(t \\right)} \\right)} & \\cos{\\left(\\mu{\\left(t \\right)} \\right)}\\end{matrix}\\right]$"
      ],
      "text/plain": [
       "⎡1      0           0    ⎤\n",
       "⎢                        ⎥\n",
       "⎢0  cos(μ(t))   sin(μ(t))⎥\n",
       "⎢                        ⎥\n",
       "⎣0  -sin(μ(t))  cos(μ(t))⎦"
      ]
     },
     "execution_count": 243,
     "metadata": {},
     "output_type": "execute_result"
    }
   ],
   "source": [
    "B = IJKReferenceFrame(\"B\")\n",
    "mu = dynamicsymbols('mu')\n",
    "B.orient(A3, 'Axis', [mu, A3.x])\n",
    "B.dcm(A3)  # T_{BA3}"
   ]
  },
  {
   "cell_type": "code",
   "execution_count": 244,
   "metadata": {},
   "outputs": [
    {
     "data": {
      "text/latex": [
       "$\\displaystyle \\left[\\begin{matrix}\\cos{\\left(\\psi{\\left(t \\right)} \\right)} & \\sin{\\left(\\psi{\\left(t \\right)} \\right)} & 0\\\\- \\sin{\\left(\\psi{\\left(t \\right)} \\right)} \\cos{\\left(\\mu{\\left(t \\right)} \\right)} & \\cos{\\left(\\mu{\\left(t \\right)} \\right)} \\cos{\\left(\\psi{\\left(t \\right)} \\right)} & \\sin{\\left(\\mu{\\left(t \\right)} \\right)}\\\\\\sin{\\left(\\mu{\\left(t \\right)} \\right)} \\sin{\\left(\\psi{\\left(t \\right)} \\right)} & - \\sin{\\left(\\mu{\\left(t \\right)} \\right)} \\cos{\\left(\\psi{\\left(t \\right)} \\right)} & \\cos{\\left(\\mu{\\left(t \\right)} \\right)}\\end{matrix}\\right]$"
      ],
      "text/plain": [
       "⎡     cos(ψ(t))             sin(ψ(t))            0    ⎤\n",
       "⎢                                                     ⎥\n",
       "⎢-sin(ψ(t))⋅cos(μ(t))  cos(μ(t))⋅cos(ψ(t))   sin(μ(t))⎥\n",
       "⎢                                                     ⎥\n",
       "⎣sin(μ(t))⋅sin(ψ(t))   -sin(μ(t))⋅cos(ψ(t))  cos(μ(t))⎦"
      ]
     },
     "execution_count": 244,
     "metadata": {},
     "output_type": "execute_result"
    }
   ],
   "source": [
    "B.dcm(A2)"
   ]
  },
  {
   "cell_type": "code",
   "execution_count": 245,
   "metadata": {},
   "outputs": [
    {
     "data": {
      "text/latex": [
       "$\\displaystyle \\left[\\begin{matrix}\\cos{\\left(\\gamma{\\left(t \\right)} \\right)} \\cos{\\left(\\psi{\\left(t \\right)} \\right)} & \\sin{\\left(\\psi{\\left(t \\right)} \\right)} & \\sin{\\left(\\gamma{\\left(t \\right)} \\right)} \\cos{\\left(\\psi{\\left(t \\right)} \\right)}\\\\- \\sin{\\left(\\gamma{\\left(t \\right)} \\right)} \\sin{\\left(\\mu{\\left(t \\right)} \\right)} - \\sin{\\left(\\psi{\\left(t \\right)} \\right)} \\cos{\\left(\\gamma{\\left(t \\right)} \\right)} \\cos{\\left(\\mu{\\left(t \\right)} \\right)} & \\cos{\\left(\\mu{\\left(t \\right)} \\right)} \\cos{\\left(\\psi{\\left(t \\right)} \\right)} & - \\sin{\\left(\\gamma{\\left(t \\right)} \\right)} \\sin{\\left(\\psi{\\left(t \\right)} \\right)} \\cos{\\left(\\mu{\\left(t \\right)} \\right)} + \\sin{\\left(\\mu{\\left(t \\right)} \\right)} \\cos{\\left(\\gamma{\\left(t \\right)} \\right)}\\\\- \\sin{\\left(\\gamma{\\left(t \\right)} \\right)} \\cos{\\left(\\mu{\\left(t \\right)} \\right)} + \\sin{\\left(\\mu{\\left(t \\right)} \\right)} \\sin{\\left(\\psi{\\left(t \\right)} \\right)} \\cos{\\left(\\gamma{\\left(t \\right)} \\right)} & - \\sin{\\left(\\mu{\\left(t \\right)} \\right)} \\cos{\\left(\\psi{\\left(t \\right)} \\right)} & \\sin{\\left(\\gamma{\\left(t \\right)} \\right)} \\sin{\\left(\\mu{\\left(t \\right)} \\right)} \\sin{\\left(\\psi{\\left(t \\right)} \\right)} + \\cos{\\left(\\gamma{\\left(t \\right)} \\right)} \\cos{\\left(\\mu{\\left(t \\right)} \\right)}\\end{matrix}\\right]$"
      ],
      "text/plain": [
       "⎡                cos(γ(t))⋅cos(ψ(t))                        sin(ψ(t))         \n",
       "⎢                                                                             \n",
       "⎢-sin(γ(t))⋅sin(μ(t)) - sin(ψ(t))⋅cos(γ(t))⋅cos(μ(t))  cos(μ(t))⋅cos(ψ(t))   -\n",
       "⎢                                                                             \n",
       "⎣-sin(γ(t))⋅cos(μ(t)) + sin(μ(t))⋅sin(ψ(t))⋅cos(γ(t))  -sin(μ(t))⋅cos(ψ(t))  s\n",
       "\n",
       "               sin(γ(t))⋅cos(ψ(t))                 ⎤\n",
       "                                                   ⎥\n",
       "sin(γ(t))⋅sin(ψ(t))⋅cos(μ(t)) + sin(μ(t))⋅cos(γ(t))⎥\n",
       "                                                   ⎥\n",
       "in(γ(t))⋅sin(μ(t))⋅sin(ψ(t)) + cos(γ(t))⋅cos(μ(t)) ⎦"
      ]
     },
     "execution_count": 245,
     "metadata": {},
     "output_type": "execute_result"
    }
   ],
   "source": [
    "B.dcm(A1)"
   ]
  },
  {
   "cell_type": "markdown",
   "metadata": {},
   "source": [
    "# Other interesting methods"
   ]
  },
  {
   "cell_type": "markdown",
   "metadata": {},
   "source": [
    "### DCM"
   ]
  },
  {
   "cell_type": "markdown",
   "metadata": {},
   "source": [
    "Examples from: https://docs.sympy.org/latest/modules/physics/vector/api/classes.html"
   ]
  },
  {
   "cell_type": "code",
   "execution_count": 246,
   "metadata": {},
   "outputs": [
    {
     "data": {
      "text/latex": [
       "$\\displaystyle \\left( \\left[\\begin{matrix}1 & 0 & 0\\\\0 & \\cos{\\left(q_{1} \\right)} & \\sin{\\left(q_{1} \\right)}\\\\0 & - \\sin{\\left(q_{1} \\right)} & \\cos{\\left(q_{1} \\right)}\\end{matrix}\\right], \\  \\left[\\begin{matrix}1 & 0 & 0\\\\0 & \\cos{\\left(q_{1} \\right)} & - \\sin{\\left(q_{1} \\right)}\\\\0 & \\sin{\\left(q_{1} \\right)} & \\cos{\\left(q_{1} \\right)}\\end{matrix}\\right]\\right)$"
      ],
      "text/plain": [
       "⎛⎡1     0         0   ⎤  ⎡1     0        0    ⎤⎞\n",
       "⎜⎢                    ⎥  ⎢                    ⎥⎟\n",
       "⎜⎢0  cos(q₁)   sin(q₁)⎥, ⎢0  cos(q₁)  -sin(q₁)⎥⎟\n",
       "⎜⎢                    ⎥  ⎢                    ⎥⎟\n",
       "⎝⎣0  -sin(q₁)  cos(q₁)⎦  ⎣0  sin(q₁)  cos(q₁) ⎦⎠"
      ]
     },
     "execution_count": 246,
     "metadata": {},
     "output_type": "execute_result"
    }
   ],
   "source": [
    "# Define the reference frames\n",
    "N = ReferenceFrame('N')\n",
    "q1 = symbols('q1')\n",
    "# orientnew = Returns a new reference frame oriented with respect to this reference frame.\n",
    "A = N.orientnew('A', 'Axis', (q1, N.x))\n",
    "\n",
    "# DCM between A and N reference frames\n",
    "A.dcm(N), N.dcm(A)\n"
   ]
  },
  {
   "cell_type": "code",
   "execution_count": 247,
   "metadata": {},
   "outputs": [
    {
     "data": {
      "text/latex": [
       "$\\displaystyle \\left( \\left[\\begin{matrix}1 & 0 & 0\\\\0 & \\cos{\\left(q_{1} \\right)} & \\sin{\\left(q_{1} \\right)}\\\\0 & - \\sin{\\left(q_{1} \\right)} & \\cos{\\left(q_{1} \\right)}\\end{matrix}\\right], \\  \\left[\\begin{matrix}1 & 0 & 0\\\\0 & \\cos{\\left(q_{1} \\right)} & - \\sin{\\left(q_{1} \\right)}\\\\0 & \\sin{\\left(q_{1} \\right)} & \\cos{\\left(q_{1} \\right)}\\end{matrix}\\right]\\right)$"
      ],
      "text/plain": [
       "⎛⎡1     0         0   ⎤  ⎡1     0        0    ⎤⎞\n",
       "⎜⎢                    ⎥  ⎢                    ⎥⎟\n",
       "⎜⎢0  cos(q₁)   sin(q₁)⎥, ⎢0  cos(q₁)  -sin(q₁)⎥⎟\n",
       "⎜⎢                    ⎥  ⎢                    ⎥⎟\n",
       "⎝⎣0  -sin(q₁)  cos(q₁)⎦  ⎣0  sin(q₁)  cos(q₁) ⎦⎠"
      ]
     },
     "execution_count": 247,
     "metadata": {},
     "output_type": "execute_result"
    }
   ],
   "source": [
    "q1 = symbols('q1')\n",
    "N = ReferenceFrame('N')\n",
    "B = ReferenceFrame('B')\n",
    "\n",
    "B.orient_axis(N, N.x, q1)\n",
    "\n",
    "# The orient_axis() method generates a direction cosine matrix and its transpose which \n",
    "# defines the orientation of B relative to N and vice versa. Once orient is called, \n",
    "# dcm() outputs the appropriate direction cosine matrix:\n",
    "\n",
    "B.dcm(N), N.dcm(B)"
   ]
  },
  {
   "cell_type": "markdown",
   "metadata": {},
   "source": [
    "### Kinematic Equations"
   ]
  },
  {
   "cell_type": "code",
   "execution_count": 248,
   "metadata": {},
   "outputs": [],
   "source": [
    "from sympy.physics.vector import ReferenceFrame, get_motion_params, dynamicsymbols, init_vprinting\n"
   ]
  },
  {
   "cell_type": "markdown",
   "metadata": {},
   "source": [
    "Returns the three motion parameters - (acceleration, velocity, and position) as vectorial functions of time in the given frame.\n",
    "\n",
    "If a higher order differential function is provided, the lower order functions are used as boundary conditions. For example, given the acceleration, the velocity and position parameters are taken as boundary conditions.\n",
    "\n",
    "The values of time at which the boundary conditions are specified are taken from timevalue1(for position boundary condition) and timevalue2(for velocity boundary condition).\n",
    "\n",
    "If any of the boundary conditions are not provided, they are taken to be zero by default (zero vectors, in case of vectorial inputs). If the boundary conditions are also functions of time, they are converted to constants by substituting the time values in the dynamicsymbols._t time Symbol.\n",
    "\n",
    "This function can also be used for calculating rotational motion parameters. Have a look at the Parameters and Examples for more clarity."
   ]
  },
  {
   "cell_type": "code",
   "execution_count": 249,
   "metadata": {},
   "outputs": [
    {
     "data": {
      "text/latex": [
       "$\\displaystyle \\left( a t\\mathbf{\\hat{r}_x} + b t\\mathbf{\\hat{r}_y} + c t\\mathbf{\\hat{r}_z}, \\  \\frac{a t^{2}}{2}\\mathbf{\\hat{r}_x} + \\frac{b t^{2}}{2}\\mathbf{\\hat{r}_y} + \\frac{c t^{2}}{2}\\mathbf{\\hat{r}_z}\\right)$"
      ],
      "text/plain": [
       "⎛a⋅t r_x + b⋅t r_y + c⋅t r_z,      2          2          2  ⎞\n",
       "⎜                               a⋅t        b⋅t        c⋅t   ⎟\n",
       "⎜                             ──── r_x + ──── r_y + ──── r_z⎟\n",
       "⎝                                 2          2          2   ⎠"
      ]
     },
     "execution_count": 249,
     "metadata": {},
     "output_type": "execute_result"
    }
   ],
   "source": [
    "R = ReferenceFrame('R')\n",
    "v1, v2, v3 = dynamicsymbols('v1 v2 v3')\n",
    "v = v1*R.x + v2*R.y + v3*R.z\n",
    "get_motion_params(R, position=v)\n",
    "a, b, c = symbols('a b c')\n",
    "v = a*R.x + b*R.y + c*R.z\n",
    "get_motion_params(R, velocity=v)\n",
    "parameters = get_motion_params(R, acceleration=v)\n",
    "parameters[1], parameters[2]"
   ]
  },
  {
   "cell_type": "markdown",
   "metadata": {},
   "source": [
    "Gives equations relating the qdot’s to u’s for a rotation type.\n",
    "\n",
    "Supply rotation type and order as in orient. Speeds are assumed to be body-fixed; if we are defining the orientation of B in A using by rot_type, the angular velocity of B in A is assumed to be in the form: speed[0]*B.x + speed[1]*B.y + speed[2]*B.z"
   ]
  },
  {
   "cell_type": "code",
   "execution_count": 252,
   "metadata": {},
   "outputs": [
    {
     "data": {
      "text/latex": [
       "$\\displaystyle \\left[ - \\frac{\\operatorname{u_{1}}{\\left(t \\right)} \\sin{\\left(\\operatorname{q_{3}}{\\left(t \\right)} \\right)} + \\operatorname{u_{2}}{\\left(t \\right)} \\cos{\\left(\\operatorname{q_{3}}{\\left(t \\right)} \\right)}}{\\sin{\\left(\\operatorname{q_{2}}{\\left(t \\right)} \\right)}} + \\frac{d}{d t} \\operatorname{q_{1}}{\\left(t \\right)}, \\  - \\operatorname{u_{1}}{\\left(t \\right)} \\cos{\\left(\\operatorname{q_{3}}{\\left(t \\right)} \\right)} + \\operatorname{u_{2}}{\\left(t \\right)} \\sin{\\left(\\operatorname{q_{3}}{\\left(t \\right)} \\right)} + \\frac{d}{d t} \\operatorname{q_{2}}{\\left(t \\right)}, \\  \\frac{\\left(\\operatorname{u_{1}}{\\left(t \\right)} \\sin{\\left(\\operatorname{q_{3}}{\\left(t \\right)} \\right)} + \\operatorname{u_{2}}{\\left(t \\right)} \\cos{\\left(\\operatorname{q_{3}}{\\left(t \\right)} \\right)}\\right) \\cos{\\left(\\operatorname{q_{2}}{\\left(t \\right)} \\right)}}{\\sin{\\left(\\operatorname{q_{2}}{\\left(t \\right)} \\right)}} - \\operatorname{u_{3}}{\\left(t \\right)} + \\frac{d}{d t} \\operatorname{q_{3}}{\\left(t \\right)}\\right]$"
      ],
      "text/plain": [
       "⎡  u₁(t)⋅sin(q₃(t)) + u₂(t)⋅cos(q₃(t))   d                                    \n",
       "⎢- ─────────────────────────────────── + ──(q₁(t)), -u₁(t)⋅cos(q₃(t)) + u₂(t)⋅\n",
       "⎣               sin(q₂(t))               dt                                   \n",
       "\n",
       "             d          (u₁(t)⋅sin(q₃(t)) + u₂(t)⋅cos(q₃(t)))⋅cos(q₂(t))      \n",
       "sin(q₃(t)) + ──(q₂(t)), ──────────────────────────────────────────────── - u₃(\n",
       "             dt                            sin(q₂(t))                         \n",
       "\n",
       "     d        ⎤\n",
       "t) + ──(q₃(t))⎥\n",
       "     dt       ⎦"
      ]
     },
     "execution_count": 252,
     "metadata": {},
     "output_type": "execute_result"
    }
   ],
   "source": [
    "u1, u2, u3 = dynamicsymbols('u1 u2 u3')\n",
    "q1, q2, q3 = dynamicsymbols('q1 q2 q3')\n",
    "k_Eq = kinematic_equations([u1, u2, u3], [q1, q2, q3], 'body', '313')\n",
    "k_Eq\n"
   ]
  },
  {
   "cell_type": "code",
   "execution_count": 320,
   "metadata": {},
   "outputs": [
    {
     "data": {
      "text/latex": [
       "$\\displaystyle \\left[\\begin{matrix}- \\frac{\\dot{\\gamma} \\sin{\\left(\\psi \\right)} - \\dot{\\mu} \\cos{\\left(\\psi \\right)}}{\\sin{\\left(\\gamma \\right)}}\\\\- \\dot{\\gamma} \\cos{\\left(\\psi \\right)} - \\dot{\\mu} \\sin{\\left(\\psi \\right)}\\\\- \\dot{\\psi} - \\frac{\\left(- \\dot{\\gamma} \\sin{\\left(\\psi \\right)} + \\dot{\\mu} \\cos{\\left(\\psi \\right)}\\right) \\cos{\\left(\\gamma \\right)}}{\\sin{\\left(\\gamma \\right)}}\\end{matrix}\\right]$"
      ],
      "text/plain": [
       "⎡          -(\\dot{\\gamma}⋅sin(ψ) - \\dot{\\mu}⋅cos(ψ))           ⎤\n",
       "⎢          ──────────────────────────────────────────          ⎥\n",
       "⎢                            sin(γ)                            ⎥\n",
       "⎢                                                              ⎥\n",
       "⎢           -\\dot{\\gamma}⋅cos(ψ) - \\dot{\\mu}⋅sin(ψ)            ⎥\n",
       "⎢                                                              ⎥\n",
       "⎢              (-\\dot{\\gamma}⋅sin(ψ) + \\dot{\\mu}⋅cos(ψ))⋅cos(γ)⎥\n",
       "⎢-\\dot{\\psi} - ────────────────────────────────────────────────⎥\n",
       "⎣                                   sin(γ)                     ⎦"
      ]
     },
     "execution_count": 320,
     "metadata": {},
     "output_type": "execute_result"
    }
   ],
   "source": [
    "u1, u2, u3 = symbols('mu gamma psi')\n",
    "q1, q2, q3 = symbols('\\dot{\\mu} \\dot{\\gamma} \\dot{\\psi}')\n",
    "\n",
    "K_eq = Matrix(kinematic_equations([q1, q2, q3], [u1, u2, u3], 'body', '323'))\n",
    "K_eq \n",
    "# Check this site http://man.hubwiz.com/docset/SymPy.docset/Contents/Resources/Documents/_modules/sympy/physics/vector/functions.html\n"
   ]
  }
 ],
 "metadata": {
  "interpreter": {
   "hash": "7bdadbcc745afc9ac1e1714124e1bb5770ee7d86d26de672bb194e9104174d2a"
  },
  "kernelspec": {
   "display_name": "Python 3.8.3 64-bit ('base': conda)",
   "name": "python3"
  },
  "language_info": {
   "codemirror_mode": {
    "name": "ipython",
    "version": 3
   },
   "file_extension": ".py",
   "mimetype": "text/x-python",
   "name": "python",
   "nbconvert_exporter": "python",
   "pygments_lexer": "ipython3",
   "version": "3.8.3"
  },
  "orig_nbformat": 4
 },
 "nbformat": 4,
 "nbformat_minor": 2
}
